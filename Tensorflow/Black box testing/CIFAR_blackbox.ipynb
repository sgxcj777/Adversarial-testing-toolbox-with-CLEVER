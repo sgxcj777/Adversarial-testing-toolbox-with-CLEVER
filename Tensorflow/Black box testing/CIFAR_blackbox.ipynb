{
 "cells": [
  {
   "cell_type": "markdown",
   "metadata": {},
   "source": [
    "## BlackBox testing\n",
    "We can only access 2 functions in the blackbox model:\n",
    " - `classifierBlack.predict(x_test)` returns predicted output from x_test\n",
    " - `classifierBlack.nb_classes()` returns number of target classes \n"
   ]
  },
  {
   "cell_type": "markdown",
   "metadata": {},
   "source": [
    "### Training the created CNN model above and preparing classifier"
   ]
  },
  {
   "cell_type": "code",
   "execution_count": 171,
   "metadata": {},
   "outputs": [
    {
     "name": "stdout",
     "output_type": "stream",
     "text": [
      "Epoch 1/10\n",
      "5000/5000 [==============================] - 5s 904us/step - loss: 0.4450 - accuracy: 0.8488\n",
      "Epoch 2/10\n",
      "5000/5000 [==============================] - 5s 927us/step - loss: 0.3509 - accuracy: 0.8776\n",
      "Epoch 3/10\n",
      "5000/5000 [==============================] - 4s 880us/step - loss: 0.3009 - accuracy: 0.8974\n",
      "Epoch 4/10\n",
      "5000/5000 [==============================] - 4s 878us/step - loss: 0.3115 - accuracy: 0.8894\n",
      "Epoch 5/10\n",
      "5000/5000 [==============================] - 4s 881us/step - loss: 0.2716 - accuracy: 0.9048\n",
      "Epoch 6/10\n",
      "5000/5000 [==============================] - 4s 887us/step - loss: 0.2492 - accuracy: 0.9116\n",
      "Epoch 7/10\n",
      "5000/5000 [==============================] - 4s 888us/step - loss: 0.2545 - accuracy: 0.9144\n",
      "Epoch 8/10\n",
      "5000/5000 [==============================] - 4s 894us/step - loss: 0.3034 - accuracy: 0.8956\n",
      "Epoch 9/10\n",
      "5000/5000 [==============================] - 4s 880us/step - loss: 0.2746 - accuracy: 0.9006\n",
      "Epoch 10/10\n",
      "5000/5000 [==============================] - 5s 901us/step - loss: 0.3862 - accuracy: 0.8626\n"
     ]
    }
   ],
   "source": [
    "#training the CNN model created above and defining the predict function\n",
    "from numpy import array\n",
    "from numpy import argmax\n",
    "from keras.utils import to_categorical\n",
    "\n",
    "#train the model above\n",
    "model.fit(x_train, y_train, batch_size = 128, epochs = 10)\n",
    "\n",
    "#create a function to predict one hot encoded inputs using trained model\n",
    "def classify_one_hot(input):\n",
    "    data = model.predict_classes(input)\n",
    "    data = array(data)\n",
    "    # one hot encode\n",
    "    encoded = to_categorical(data, num_classes=10)\n",
    "    return encoded"
   ]
  },
  {
   "cell_type": "markdown",
   "metadata": {},
   "source": [
    "### Wrapping a Blackbox classifier"
   ]
  },
  {
   "cell_type": "code",
   "execution_count": 172,
   "metadata": {},
   "outputs": [],
   "source": [
    "#create a blackbox wrapper\n",
    "from art.classifiers import BlackBoxClassifier\n",
    "classifierBlack = BlackBoxClassifier(classify_one_hot,x_train.shape[1:],10)"
   ]
  },
  {
   "cell_type": "code",
   "execution_count": 173,
   "metadata": {},
   "outputs": [
    {
     "data": {
      "text/plain": [
       "array([[0., 0., 0., 0., 0., 0., 1., 0., 0., 0.],\n",
       "       [0., 0., 0., 0., 0., 0., 0., 0., 1., 0.],\n",
       "       [0., 0., 0., 0., 0., 0., 0., 0., 1., 0.]], dtype=float32)"
      ]
     },
     "execution_count": 173,
     "metadata": {},
     "output_type": "execute_result"
    }
   ],
   "source": [
    "#testing classifier\n",
    "classifierBlack.predict(x_test[:3])"
   ]
  },
  {
   "cell_type": "markdown",
   "metadata": {},
   "source": [
    "### Using Advertorch library to perfrom Backward Pass differentiable approximation (BPDA)\n",
    "\n",
    "- Due to black box testing environment, we will perform backward pass differentiable approximation (BPDA) to approximate gradients\n",
    "- We will use Advertorch's library to perform BPDA"
   ]
  },
  {
   "cell_type": "code",
   "execution_count": null,
   "metadata": {},
   "outputs": [],
   "source": []
  }
 ],
 "metadata": {
  "kernelspec": {
   "display_name": "Python 3",
   "language": "python",
   "name": "python3"
  },
  "language_info": {
   "codemirror_mode": {
    "name": "ipython",
    "version": 3
   },
   "file_extension": ".py",
   "mimetype": "text/x-python",
   "name": "python",
   "nbconvert_exporter": "python",
   "pygments_lexer": "ipython3",
   "version": "3.7.4"
  }
 },
 "nbformat": 4,
 "nbformat_minor": 4
}
